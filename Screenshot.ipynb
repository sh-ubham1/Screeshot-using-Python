{
 "cells": [
  {
   "cell_type": "code",
   "execution_count": null,
   "metadata": {},
   "outputs": [],
   "source": [
    "import pyautogui\n",
    "import tkinter as tk\n",
    "from tkinter.filedialog import *\n",
    "root = tk.Tk()\n",
    "canvas1 = tk.Canvas(root, width=300, height=300)\n",
    "canvas1.pack()\n",
    "def takescreenshot():\n",
    "        myscreenshot = pyautogui.screenshot()\n",
    "        save_path = asksaveasfilename()\n",
    "        myscreenshot.save(save_path+\"_screenshot.png\")\n",
    "myButton = tk.Button(text=\"Take Screenshot\",command=takescreenshot,font=10)\n",
    "canvas1.create_window(150,150,window=myButton)\n",
    "mainloop()\n",
    "\n",
    "\n",
    "\n",
    "\n",
    "\n",
    "    "
   ]
  },
  {
   "cell_type": "code",
   "execution_count": null,
   "metadata": {},
   "outputs": [],
   "source": []
  }
 ],
 "metadata": {
  "kernelspec": {
   "display_name": "Python 3",
   "language": "python",
   "name": "python3"
  },
  "language_info": {
   "codemirror_mode": {
    "name": "ipython",
    "version": 3
   },
   "file_extension": ".py",
   "mimetype": "text/x-python",
   "name": "python",
   "nbconvert_exporter": "python",
   "pygments_lexer": "ipython3",
   "version": "3.8.5"
  }
 },
 "nbformat": 4,
 "nbformat_minor": 4
}
